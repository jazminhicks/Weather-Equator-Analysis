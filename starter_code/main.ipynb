{
 "cells": [
  {
   "cell_type": "code",
   "execution_count": 8,
   "metadata": {},
   "outputs": [],
   "source": [
    "# import dependencies\n",
    "import pandas as pd\n",
    "import numpy as np\n",
    "import random\n",
    "import requests\n",
    "from api_keys import api_key\n",
    "from citipy import citipy\n",
    "import pprint\n",
    "\n",
    "# Output File (CSV)\n",
    "output_data = \"../Output/cities.csv\"\n",
    "\n",
    "# Range of latitudes and longitudes\n",
    "lat_range = (-90, 90)\n",
    "lng_range = (-180, 180)"
   ]
  },
  {
   "cell_type": "markdown",
   "metadata": {},
   "source": [
    "## List of Cities"
   ]
  },
  {
   "cell_type": "code",
   "execution_count": 9,
   "metadata": {
    "scrolled": true
   },
   "outputs": [
    {
     "data": {
      "text/plain": [
       "78"
      ]
     },
     "execution_count": 9,
     "metadata": {},
     "output_type": "execute_result"
    }
   ],
   "source": [
    "# Create a set of random lat and lng combinations\n",
    "\n",
    "lats = np.random.uniform(-90.000, 90.000, size=100)\n",
    "lngs = np.random.uniform(-180.000, 180.000, size=100)\n",
    "\n",
    "lat_lng = list(zip(lats, lngs))\n",
    "\n",
    "cities = []\n",
    "countries = []\n",
    "\n",
    "for coordinate in lat_lng:\n",
    "    \n",
    "    city = citipy.nearest_city(coordinate[0], coordinate[1]).city_name\n",
    "    code = citipy.nearest_city(coordinate[0], coordinate[1]).country_code\n",
    "    if city not in cities:\n",
    "        cities.append(city)\n",
    "        countries.append(code)\n",
    "\n",
    "city_country = list(zip(cities, countries))\n",
    "\n",
    "len(city_country)"
   ]
  },
  {
   "cell_type": "code",
   "execution_count": 10,
   "metadata": {
    "scrolled": true
   },
   "outputs": [],
   "source": [
    "url = \"http://api.openweathermap.org/data/2.5/weather?\"\n",
    "\n",
    "unit = \"metric\" \n",
    "\n",
    "query_url = f\"{url}appid={api_key}&units={unit}&q=\"\n",
    "\n"
   ]
  },
  {
   "cell_type": "code",
   "execution_count": 16,
   "metadata": {},
   "outputs": [
    {
     "name": "stdout",
     "output_type": "stream",
     "text": [
      "mama\n",
      "cape town\n",
      "ushuaia\n",
      "ilulissat\n",
      "cherskiy\n",
      "upernavik\n",
      "hamilton\n",
      "yellowknife\n",
      "cockburn town\n",
      "bathsheba\n",
      "city not found...skippping\n",
      "aizkraukle\n",
      "jamestown\n",
      "butaritari\n",
      "city not found...skippping\n",
      "rikitea\n",
      "nikolskoye\n",
      "albany\n",
      "husavik\n",
      "kapaa\n",
      "city not found...skippping\n",
      "lewistown\n",
      "kitimat\n",
      "xai-xai\n",
      "juneau\n",
      "uige\n",
      "kiruna\n",
      "meridian\n",
      "punta arenas\n",
      "talnakh\n",
      "tahoua\n",
      "ossora\n",
      "vaini\n",
      "hilo\n",
      "cintalapa\n",
      "tuktoyaktuk\n",
      "broome\n",
      "vila velha\n",
      "city not found...skippping\n",
      "plettenberg bay\n",
      "yumen\n",
      "city not found...skippping\n",
      "haines junction\n",
      "tuatapere\n",
      "avarua\n",
      "city not found...skippping\n",
      "khatanga\n",
      "castro\n",
      "bambous virieux\n",
      "ostrovnoy\n",
      "lianyuan\n",
      "edd\n",
      "kodiak\n",
      "busselton\n",
      "victoria\n",
      "kandrian\n",
      "belmonte\n",
      "dongsheng\n",
      "iquique\n",
      "bredasdorp\n",
      "katsuura\n",
      "puerto ayora\n",
      "ponta do sol\n",
      "souillac\n",
      "sorland\n",
      "muros\n",
      "kaitangata\n",
      "hermanus\n",
      "hambantota\n",
      "kavkazskaya\n",
      "omsukchan\n",
      "mar del plata\n",
      "sobolevo\n",
      "praia\n",
      "qaanaaq\n",
      "city not found...skippping\n",
      "zhaotong\n",
      "kayerkan\n"
     ]
    }
   ],
   "source": [
    "for place in city_country:\n",
    "    \n",
    "    query = place[0] + \",\" + place[1]\n",
    "    \n",
    "    city_data = requests.get(query_url + query).json()\n",
    "    \n",
    "    if city_data[\"cod\"] == \"404\":\n",
    "        print(\"city not found...skippping\")\n",
    "    \n",
    "    \n",
    "    else:\n",
    "        print (place[0])"
   ]
  },
  {
   "cell_type": "code",
   "execution_count": null,
   "metadata": {},
   "outputs": [],
   "source": []
  },
  {
   "cell_type": "code",
   "execution_count": null,
   "metadata": {},
   "outputs": [],
   "source": []
  }
 ],
 "metadata": {
  "kernelspec": {
   "display_name": "Python 3",
   "language": "python",
   "name": "python3"
  },
  "language_info": {
   "codemirror_mode": {
    "name": "ipython",
    "version": 3
   },
   "file_extension": ".py",
   "mimetype": "text/x-python",
   "name": "python",
   "nbconvert_exporter": "python",
   "pygments_lexer": "ipython3",
   "version": "3.7.3"
  }
 },
 "nbformat": 4,
 "nbformat_minor": 2
}
