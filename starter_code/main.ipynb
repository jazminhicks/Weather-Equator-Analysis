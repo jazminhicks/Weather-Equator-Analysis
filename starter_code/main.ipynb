{
 "cells": [
  {
   "cell_type": "code",
   "execution_count": 70,
   "metadata": {},
   "outputs": [],
   "source": [
    "# import dependencies\n",
    "import pandas as pd\n",
    "import numpy as np\n",
    "import random\n",
    "import requests\n",
    "from api_keys import api_key\n",
    "from citipy import citipy\n",
    "import pprint\n",
    "import matplotlib.pyplot as plt\n",
    "\n",
    "# Range of latitudes and longitudes\n",
    "lat_range = (-90, 90)\n",
    "lng_range = (-180, 180)"
   ]
  },
  {
   "cell_type": "markdown",
   "metadata": {},
   "source": [
    "## List of Cities"
   ]
  },
  {
   "cell_type": "code",
   "execution_count": 41,
   "metadata": {
    "scrolled": true
   },
   "outputs": [
    {
     "data": {
      "text/plain": [
       "42"
      ]
     },
     "execution_count": 41,
     "metadata": {},
     "output_type": "execute_result"
    }
   ],
   "source": [
    "# Create a set of random lat and lng combinations\n",
    "\n",
    "lats = np.random.uniform(-90.000, 90.000, size=50)\n",
    "lngs = np.random.uniform(-180.000, 180.000, size=50)\n",
    "\n",
    "lat_lng = list(zip(lats, lngs))\n",
    "\n",
    "cities = []\n",
    "countries = []\n",
    "\n",
    "for coordinate in lat_lng:\n",
    "    \n",
    "    city = citipy.nearest_city(coordinate[0], coordinate[1]).city_name\n",
    "    code = citipy.nearest_city(coordinate[0], coordinate[1]).country_code\n",
    "    if city not in cities:\n",
    "        cities.append(city)\n",
    "        countries.append(code)\n",
    "\n",
    "city_country = list(zip(cities, countries))\n",
    "\n",
    "len(city_country)"
   ]
  },
  {
   "cell_type": "code",
   "execution_count": 79,
   "metadata": {
    "scrolled": true
   },
   "outputs": [],
   "source": [
    "url = \"http://api.openweathermap.org/data/2.5/weather?\"\n",
    "\n",
    "unit = \"imperial\" \n",
    "\n",
    "query_url = f\"{url}appid={api_key}&units={unit}&q=\"\n",
    "\n"
   ]
  },
  {
   "cell_type": "code",
   "execution_count": 80,
   "metadata": {},
   "outputs": [
    {
     "name": "stdout",
     "output_type": "stream",
     "text": [
      "Beginning data retrieval...\n",
      "----------------------------\n",
      "Processing data for albany\n",
      "Processing data for mitsamiouli\n",
      "Processing data for qaanaaq\n",
      "barentsburg was not found...skippping\n",
      "Processing data for butaritari\n",
      "Processing data for tiksi\n",
      "warqla was not found...skippping\n",
      "Processing data for kapaa\n",
      "Processing data for lebu\n",
      "Processing data for hobart\n",
      "Processing data for san policarpo\n",
      "mergui was not found...skippping\n",
      "Processing data for bethel\n",
      "Processing data for mizdah\n",
      "Processing data for lompoc\n",
      "Processing data for sinnamary\n",
      "Processing data for hamilton\n",
      "Processing data for syracuse\n",
      "Processing data for la ronge\n",
      "Processing data for carnarvon\n",
      "Processing data for tuktoyaktuk\n",
      "Processing data for tasiilaq\n",
      "Processing data for nantucket\n",
      "Processing data for dikson\n",
      "Processing data for bulungu\n",
      "Processing data for atuona\n",
      "Processing data for yellowknife\n",
      "Processing data for pangnirtung\n",
      "Processing data for vikhorevka\n",
      "Processing data for souillac\n",
      "Processing data for ushuaia\n",
      "belushya guba was not found...skippping\n",
      "Processing data for gdov\n",
      "Processing data for avarua\n",
      "Processing data for nikolskoye\n",
      "andarab was not found...skippping\n",
      "phan rang was not found...skippping\n",
      "Processing data for hermanus\n",
      "grand river south east was not found...skippping\n",
      "Processing data for broken hill\n",
      "Processing data for arraial do cabo\n",
      "Processing data for mar del plata\n"
     ]
    }
   ],
   "source": [
    "print (\"Beginning data retrieval...\")\n",
    "print (\"----------------------------\")\n",
    "\n",
    "found_cities = []\n",
    "found_countries = []\n",
    "found_lats = []\n",
    "found_lngs = []\n",
    "date = []\n",
    "cloudiness = []\n",
    "humidity = []\n",
    "max_temp = []\n",
    "wind_speed = []\n",
    "\n",
    "for place in city_country:\n",
    "    \n",
    "    query = place[0].replace(\" \", \"+\") + \",\" + place[1].replace(\" \", \"+\")\n",
    "    \n",
    "    city_data = requests.get(query_url + query).json()\n",
    "    \n",
    "    if city_data[\"cod\"] == \"404\":\n",
    "        print(place[0] + \" was not found...skippping\")\n",
    "    \n",
    "    \n",
    "    else:\n",
    "        print (\"Processing data for \" + place[0])\n",
    "        #print (query_url + query)\n",
    "        found_cities.append(place[0])\n",
    "        found_countries.append(place[1])\n",
    "        date.append(city_data[\"dt\"])\n",
    "        cloudiness.append(city_data[\"clouds\"][\"all\"])\n",
    "        humidity.append(city_data[\"main\"][\"humidity\"])\n",
    "        max_temp.append(city_data[\"main\"][\"temp_max\"])\n",
    "        wind_speed.append(city_data[\"wind\"][\"speed\"])\n",
    "        found_lats.append(city_data[\"coord\"][\"lat\"])\n",
    "        found_lngs.append(city_data[\"coord\"][\"lon\"])"
   ]
  },
  {
   "cell_type": "markdown",
   "metadata": {},
   "source": [
    "## DataFrame of City Weather Data"
   ]
  },
  {
   "cell_type": "code",
   "execution_count": 81,
   "metadata": {},
   "outputs": [
    {
     "data": {
      "text/html": [
       "<div>\n",
       "<style scoped>\n",
       "    .dataframe tbody tr th:only-of-type {\n",
       "        vertical-align: middle;\n",
       "    }\n",
       "\n",
       "    .dataframe tbody tr th {\n",
       "        vertical-align: top;\n",
       "    }\n",
       "\n",
       "    .dataframe thead th {\n",
       "        text-align: right;\n",
       "    }\n",
       "</style>\n",
       "<table border=\"1\" class=\"dataframe\">\n",
       "  <thead>\n",
       "    <tr style=\"text-align: right;\">\n",
       "      <th></th>\n",
       "      <th>City</th>\n",
       "      <th>Country</th>\n",
       "      <th>Date</th>\n",
       "      <th>Lat</th>\n",
       "      <th>Lng</th>\n",
       "      <th>Max Temp</th>\n",
       "      <th>Humidity</th>\n",
       "      <th>Cloudiness</th>\n",
       "      <th>Wind Speed</th>\n",
       "    </tr>\n",
       "  </thead>\n",
       "  <tbody>\n",
       "    <tr>\n",
       "      <th>0</th>\n",
       "      <td>albany</td>\n",
       "      <td>au</td>\n",
       "      <td>1561249468</td>\n",
       "      <td>-35.02</td>\n",
       "      <td>117.88</td>\n",
       "      <td>53.60</td>\n",
       "      <td>93</td>\n",
       "      <td>40</td>\n",
       "      <td>10.29</td>\n",
       "    </tr>\n",
       "    <tr>\n",
       "      <th>1</th>\n",
       "      <td>mitsamiouli</td>\n",
       "      <td>km</td>\n",
       "      <td>1561249468</td>\n",
       "      <td>-11.38</td>\n",
       "      <td>43.28</td>\n",
       "      <td>78.25</td>\n",
       "      <td>73</td>\n",
       "      <td>16</td>\n",
       "      <td>11.77</td>\n",
       "    </tr>\n",
       "    <tr>\n",
       "      <th>2</th>\n",
       "      <td>qaanaaq</td>\n",
       "      <td>gl</td>\n",
       "      <td>1561249469</td>\n",
       "      <td>77.48</td>\n",
       "      <td>-69.36</td>\n",
       "      <td>31.81</td>\n",
       "      <td>85</td>\n",
       "      <td>100</td>\n",
       "      <td>14.72</td>\n",
       "    </tr>\n",
       "    <tr>\n",
       "      <th>3</th>\n",
       "      <td>butaritari</td>\n",
       "      <td>ki</td>\n",
       "      <td>1561249469</td>\n",
       "      <td>3.07</td>\n",
       "      <td>172.79</td>\n",
       "      <td>84.73</td>\n",
       "      <td>73</td>\n",
       "      <td>87</td>\n",
       "      <td>8.46</td>\n",
       "    </tr>\n",
       "    <tr>\n",
       "      <th>4</th>\n",
       "      <td>tiksi</td>\n",
       "      <td>ru</td>\n",
       "      <td>1561249458</td>\n",
       "      <td>71.64</td>\n",
       "      <td>128.87</td>\n",
       "      <td>50.71</td>\n",
       "      <td>62</td>\n",
       "      <td>0</td>\n",
       "      <td>14.03</td>\n",
       "    </tr>\n",
       "  </tbody>\n",
       "</table>\n",
       "</div>"
      ],
      "text/plain": [
       "          City Country        Date    Lat     Lng  Max Temp  Humidity  \\\n",
       "0       albany      au  1561249468 -35.02  117.88     53.60        93   \n",
       "1  mitsamiouli      km  1561249468 -11.38   43.28     78.25        73   \n",
       "2      qaanaaq      gl  1561249469  77.48  -69.36     31.81        85   \n",
       "3   butaritari      ki  1561249469   3.07  172.79     84.73        73   \n",
       "4        tiksi      ru  1561249458  71.64  128.87     50.71        62   \n",
       "\n",
       "   Cloudiness  Wind Speed  \n",
       "0          40       10.29  \n",
       "1          16       11.77  \n",
       "2         100       14.72  \n",
       "3          87        8.46  \n",
       "4           0       14.03  "
      ]
     },
     "execution_count": 81,
     "metadata": {},
     "output_type": "execute_result"
    }
   ],
   "source": [
    "weather_df = pd.DataFrame({\"City\" : found_cities, \"Country\" : found_countries, \"Date\" : date,\n",
    "                   \"Lat\" : found_lats, \"Lng\" : found_lngs, \"Max Temp\": max_temp, \"Humidity\" : humidity, \n",
    "                   \"Cloudiness\" : cloudiness, \"Wind Speed\" : wind_speed})\n",
    "\n",
    "weather_df.to_csv(\"../Output/city_weather.csv\")\n",
    "\n",
    "weather_df.head()"
   ]
  },
  {
   "cell_type": "markdown",
   "metadata": {},
   "source": [
    "## Temperature v Latitude"
   ]
  },
  {
   "cell_type": "code",
   "execution_count": 101,
   "metadata": {},
   "outputs": [
    {
     "data": {
      "image/png": "[encoded data removed]",
      "text/plain": [
       "<Figure size 432x288 with 1 Axes>"
      ]
     },
     "metadata": {
      "needs_background": "light"
     },
     "output_type": "display_data"
    }
   ],
   "source": [
    "plt.scatter(weather_df[\"Lat\"], weather_df[\"Max Temp\"]);\n",
    "plt.title(\"Temperature (F) v. City Latitude\");\n",
    "plt.ylabel(\"Max Temperature (F)\");\n",
    "plt.xlabel(\"Latitude\");\n",
    "plt.savefig(\"../Images/temp_lat.png\")"
   ]
  },
  {
   "cell_type": "markdown",
   "metadata": {},
   "source": [
    "## Humidity v Latitude"
   ]
  },
  {
   "cell_type": "code",
   "execution_count": 103,
   "metadata": {},
   "outputs": [
    {
     "data": {
      "image/png": "[encoded data removed]",
      "text/plain": [
       "<Figure size 432x288 with 1 Axes>"
      ]
     },
     "metadata": {
      "needs_background": "light"
     },
     "output_type": "display_data"
    }
   ],
   "source": [
    "plt.scatter(weather_df[\"Humidity\"], weather_df[\"Lat\"]);\n",
    "plt.title(\"Humidity (%) v. City Latitude\");\n",
    "plt.ylabel(\"Humidity (%)\");\n",
    "plt.xlabel(\"Latitude\");\n",
    "plt.savefig(\"../Images/humidity_lat.png\")\n"
   ]
  },
  {
   "cell_type": "markdown",
   "metadata": {},
   "source": [
    "## Cloudiness v Latitude"
   ]
  },
  {
   "cell_type": "code",
   "execution_count": 104,
   "metadata": {},
   "outputs": [
    {
     "data": {
      "image/png": "[encoded data removed]",
      "text/plain": [
       "<Figure size 432x288 with 1 Axes>"
      ]
     },
     "metadata": {
      "needs_background": "light"
     },
     "output_type": "display_data"
    }
   ],
   "source": [
    "plt.scatter(weather_df[\"Cloudiness\"], weather_df[\"Lat\"]);\n",
    "plt.title(\"Cloudiness (%) v. City Latitude\");\n",
    "plt.ylabel(\"Cloudiness (%)\");\n",
    "plt.xlabel(\"Latitude\");\n",
    "plt.savefig(\"../Images/clouds_lat.png\")"
   ]
  },
  {
   "cell_type": "markdown",
   "metadata": {},
   "source": [
    "## Wind Speed v Latitude"
   ]
  },
  {
   "cell_type": "code",
   "execution_count": 105,
   "metadata": {},
   "outputs": [
    {
     "data": {
      "image/png": "[encoded data removed]",
      "text/plain": [
       "<Figure size 432x288 with 1 Axes>"
      ]
     },
     "metadata": {
      "needs_background": "light"
     },
     "output_type": "display_data"
    }
   ],
   "source": [
    "plt.scatter(weather_df[\"Wind Speed\"], weather_df[\"Lat\"]);\n",
    "plt.title(\"Wind Speed (mph) v. City Latitude\");\n",
    "plt.ylabel(\"Wind Speed (mph)\");\n",
    "plt.xlabel(\"Latitude\");\n",
    "plt.savefig(\"../Images/wind_lat.png\")"
   ]
  },
  {
   "cell_type": "code",
   "execution_count": null,
   "metadata": {},
   "outputs": [],
   "source": []
  },
  {
   "cell_type": "code",
   "execution_count": null,
   "metadata": {},
   "outputs": [],
   "source": []
  }
 ],
 "metadata": {
  "kernelspec": {
   "display_name": "Python 3",
   "language": "python",
   "name": "python3"
  },
  "language_info": {
   "codemirror_mode": {
    "name": "ipython",
    "version": 3
   },
   "file_extension": ".py",
   "mimetype": "text/x-python",
   "name": "python",
   "nbconvert_exporter": "python",
   "pygments_lexer": "ipython3",
   "version": "3.7.3"
  }
 },
 "nbformat": 4,
 "nbformat_minor": 2
}
